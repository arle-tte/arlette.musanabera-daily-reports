{
 "cells": [
  {
   "cell_type": "markdown",
   "id": "946dcae8",
   "metadata": {},
   "source": [
    "# Practical_6: Numpy"
   ]
  },
  {
   "cell_type": "markdown",
   "id": "7d26b9ea",
   "metadata": {},
   "source": [
    "---\n",
    "\n",
    "### Exercise 1:\n",
    "Create a NumPy array of integers from 1 to 10."
   ]
  },
  {
   "cell_type": "code",
   "execution_count": 8,
   "id": "2c3af04d",
   "metadata": {},
   "outputs": [
    {
     "data": {
      "text/plain": [
       "array([ 1,  2,  3,  4,  5,  6,  7,  8,  9, 10])"
      ]
     },
     "execution_count": 8,
     "metadata": {},
     "output_type": "execute_result"
    }
   ],
   "source": [
    "import numpy as np\n",
    "array= np.arange(1,11)\n",
    "array"
   ]
  },
  {
   "cell_type": "markdown",
   "id": "c95b0ecf",
   "metadata": {},
   "source": [
    "---\n",
    "\n",
    "### Exercise 2:\n",
    "Create a 3x3 NumPy array filled with zeros."
   ]
  },
  {
   "cell_type": "code",
   "execution_count": 22,
   "id": "fa634ef6",
   "metadata": {},
   "outputs": [
    {
     "data": {
      "text/plain": [
       "array([[0, 0, 0],\n",
       "       [0, 0, 0],\n",
       "       [0, 0, 0]])"
      ]
     },
     "execution_count": 22,
     "metadata": {},
     "output_type": "execute_result"
    }
   ],
   "source": [
    "array2 = np.zeros((3,3), dtype = int)\n",
    "array2"
   ]
  },
  {
   "cell_type": "markdown",
   "id": "4fc5cdcb",
   "metadata": {},
   "source": [
    "---\n",
    "\n",
    "### Exercise 3:\n",
    "Create a NumPy array of 10 evenly spaced numbers between 0 and 5."
   ]
  },
  {
   "cell_type": "code",
   "execution_count": 24,
   "id": "1b3a24b4",
   "metadata": {},
   "outputs": [
    {
     "data": {
      "text/plain": [
       "array([0. , 0.5, 1. , 1.5, 2. , 2.5, 3. , 3.5, 4. , 4.5])"
      ]
     },
     "execution_count": 24,
     "metadata": {},
     "output_type": "execute_result"
    }
   ],
   "source": [
    "c = np.linspace(0,5,10, endpoint = False)\n",
    "c"
   ]
  },
  {
   "cell_type": "markdown",
   "id": "4daa9cf6",
   "metadata": {},
   "source": [
    "---\n",
    "\n",
    "### Exercise 4:\n",
    "Create a 5x5 identity matrix using NumPy."
   ]
  },
  {
   "cell_type": "code",
   "execution_count": 11,
   "id": "c666c49a",
   "metadata": {},
   "outputs": [
    {
     "data": {
      "text/plain": [
       "array([[1., 0., 0., 0., 0.],\n",
       "       [0., 1., 0., 0., 0.],\n",
       "       [0., 0., 1., 0., 0.],\n",
       "       [0., 0., 0., 1., 0.],\n",
       "       [0., 0., 0., 0., 1.]])"
      ]
     },
     "execution_count": 11,
     "metadata": {},
     "output_type": "execute_result"
    }
   ],
   "source": [
    "d = np.eye(5)\n",
    "d"
   ]
  },
  {
   "cell_type": "markdown",
   "id": "3ccfc7d0",
   "metadata": {},
   "source": [
    "---\n",
    "\n",
    "### Exercise 5:\n",
    "Create a 4x4 matrix with random values between 0 and 1."
   ]
  },
  {
   "cell_type": "code",
   "execution_count": 12,
   "id": "80b1e8e7",
   "metadata": {},
   "outputs": [
    {
     "data": {
      "text/plain": [
       "array([[0.59367291, 0.00968688, 0.0536474 , 0.28796739],\n",
       "       [0.12482704, 0.52917464, 0.17356546, 0.37995449],\n",
       "       [0.0611606 , 0.76442176, 0.79831774, 0.13373638],\n",
       "       [0.37173006, 0.54289453, 0.60766857, 0.97431189]])"
      ]
     },
     "execution_count": 12,
     "metadata": {},
     "output_type": "execute_result"
    }
   ],
   "source": [
    "a = np.random.random((4,4))\n",
    "a"
   ]
  },
  {
   "cell_type": "code",
   "execution_count": 27,
   "id": "2f226a09",
   "metadata": {},
   "outputs": [
    {
     "data": {
      "text/plain": [
       "array([[0.77132064, 0.02075195, 0.63364823, 0.74880388],\n",
       "       [0.49850701, 0.22479665, 0.19806286, 0.76053071],\n",
       "       [0.16911084, 0.08833981, 0.68535982, 0.95339335],\n",
       "       [0.00394827, 0.51219226, 0.81262096, 0.61252607]])"
      ]
     },
     "execution_count": 27,
     "metadata": {},
     "output_type": "execute_result"
    }
   ],
   "source": [
    "np.random.seed(10)\n",
    "a = np.random.random((4,4))\n",
    "a"
   ]
  },
  {
   "cell_type": "code",
   "execution_count": 28,
   "id": "c2e89eb3",
   "metadata": {},
   "outputs": [
    {
     "data": {
      "text/plain": [
       "array([[0.5488135 , 0.71518937, 0.60276338, 0.54488318],\n",
       "       [0.4236548 , 0.64589411, 0.43758721, 0.891773  ],\n",
       "       [0.96366276, 0.38344152, 0.79172504, 0.52889492],\n",
       "       [0.56804456, 0.92559664, 0.07103606, 0.0871293 ]])"
      ]
     },
     "execution_count": 28,
     "metadata": {},
     "output_type": "execute_result"
    }
   ],
   "source": [
    "np.random.seed(0)\n",
    "a = np.random.random((4,4))\n",
    "a"
   ]
  },
  {
   "cell_type": "markdown",
   "id": "cff91cca",
   "metadata": {},
   "source": [
    "---\n",
    "\n",
    "### Exercise 6:\n",
    "Find the shape of a NumPy array."
   ]
  },
  {
   "cell_type": "code",
   "execution_count": 13,
   "id": "c46b00eb",
   "metadata": {},
   "outputs": [
    {
     "name": "stdout",
     "output_type": "stream",
     "text": [
      "(4, 4)\n"
     ]
    }
   ],
   "source": [
    "print(a.shape) "
   ]
  },
  {
   "cell_type": "markdown",
   "id": "90715885",
   "metadata": {},
   "source": [
    "---\n",
    "\n",
    "### Exercise 7:\n",
    "Reshape a 1D NumPy array of 16 elements into a 4x4 matrix."
   ]
  },
  {
   "cell_type": "code",
   "execution_count": 14,
   "id": "56964eef",
   "metadata": {},
   "outputs": [
    {
     "data": {
      "text/plain": [
       "array([[ 0,  1,  2,  3],\n",
       "       [ 4,  5,  6,  7],\n",
       "       [ 8,  9, 10, 11],\n",
       "       [12, 13, 14, 15]])"
      ]
     },
     "execution_count": 14,
     "metadata": {},
     "output_type": "execute_result"
    }
   ],
   "source": [
    "f = np.arange(16).reshape((4,4))\n",
    "f"
   ]
  },
  {
   "cell_type": "markdown",
   "id": "d3a741ee",
   "metadata": {},
   "source": [
    "---\n",
    "\n",
    "### Exercise 8:\n",
    "Find the data type of the elements in a NumPy array."
   ]
  },
  {
   "cell_type": "code",
   "execution_count": 16,
   "id": "5ee9f17d",
   "metadata": {},
   "outputs": [
    {
     "name": "stdout",
     "output_type": "stream",
     "text": [
      "int32\n"
     ]
    }
   ],
   "source": [
    "print(f.dtype)"
   ]
  },
  {
   "cell_type": "markdown",
   "id": "132ee387",
   "metadata": {},
   "source": [
    "---\n",
    "\n",
    "### Exercise 9:\n",
    "Create a NumPy array of integers from 1 to 100 and find all even numbers in the array."
   ]
  },
  {
   "cell_type": "code",
   "execution_count": 23,
   "id": "e983ce4d",
   "metadata": {},
   "outputs": [
    {
     "data": {
      "text/plain": [
       "array([  2,   4,   6,   8,  10,  12,  14,  16,  18,  20,  22,  24,  26,\n",
       "        28,  30,  32,  34,  36,  38,  40,  42,  44,  46,  48,  50,  52,\n",
       "        54,  56,  58,  60,  62,  64,  66,  68,  70,  72,  74,  76,  78,\n",
       "        80,  82,  84,  86,  88,  90,  92,  94,  96,  98, 100])"
      ]
     },
     "execution_count": 23,
     "metadata": {},
     "output_type": "execute_result"
    }
   ],
   "source": [
    "c=np.arange(1,101)\n",
    "c1= c[1::2]\n",
    "# c1=[k for k in c if k%2==0]\n",
    "c1"
   ]
  },
  {
   "cell_type": "markdown",
   "id": "be75e3b6",
   "metadata": {},
   "source": [
    "---\n",
    "\n",
    "### Exercise 10:\n",
    "Generate a 6x6 matrix of random integers between 10 and 50."
   ]
  },
  {
   "cell_type": "code",
   "execution_count": 19,
   "id": "b6a083c4",
   "metadata": {},
   "outputs": [
    {
     "data": {
      "text/plain": [
       "array([[46, 33, 43, 20, 11, 30],\n",
       "       [12, 48, 36, 11, 29, 25],\n",
       "       [37, 33, 38, 38, 38, 34],\n",
       "       [44, 12, 39, 27, 49, 33],\n",
       "       [29, 33, 40, 48, 15, 23],\n",
       "       [10, 13, 43, 35, 38, 28]])"
      ]
     },
     "execution_count": 19,
     "metadata": {},
     "output_type": "execute_result"
    }
   ],
   "source": [
    "x = np.random.randint(10,50, size=(6,6))\n",
    "x"
   ]
  },
  {
   "cell_type": "markdown",
   "id": "c62657e3",
   "metadata": {},
   "source": [
    "---\n",
    "\n",
    "### Exercise 11:\n",
    "Slice a 2D NumPy array to extract a submatrix."
   ]
  },
  {
   "cell_type": "code",
   "execution_count": 25,
   "id": "5404e655",
   "metadata": {},
   "outputs": [
    {
     "data": {
      "text/plain": [
       "array([[7, 0],\n",
       "       [9, 7]])"
      ]
     },
     "execution_count": 25,
     "metadata": {},
     "output_type": "execute_result"
    }
   ],
   "source": [
    "y = np.random.randint(10, size=(3, 4))\n",
    "s= y[:2, 1:3]\n",
    "s"
   ]
  },
  {
   "cell_type": "markdown",
   "id": "852ba00e",
   "metadata": {},
   "source": [
    "---\n",
    "\n",
    "### Exercise 12:\n",
    "Calculate the sum of all elements in a NumPy array."
   ]
  },
  {
   "cell_type": "code",
   "execution_count": 26,
   "id": "54bed0de",
   "metadata": {},
   "outputs": [
    {
     "data": {
      "text/plain": [
       "120"
      ]
     },
     "execution_count": 26,
     "metadata": {},
     "output_type": "execute_result"
    }
   ],
   "source": [
    "f = np.arange(16).reshape((4,4))\n",
    "np.sum(f)"
   ]
  },
  {
   "cell_type": "markdown",
   "id": "a72eb849",
   "metadata": {},
   "source": [
    "---\n",
    "\n",
    "### Exercise 13:\n",
    "Calculate the mean, median, and standard deviation of a NumPy array."
   ]
  },
  {
   "cell_type": "code",
   "execution_count": 32,
   "id": "f3a59d55",
   "metadata": {},
   "outputs": [
    {
     "name": "stdout",
     "output_type": "stream",
     "text": [
      "The mean is: 7.5 The median: 7.5 The standdard deviation: 4.6097722286464435\n"
     ]
    }
   ],
   "source": [
    "A = np.arange(16).reshape((4,4))\n",
    "print(\"The mean is:\", np.mean(A), \"The median:\", np.median(A), \"The standdard deviation:\", np.std(A))"
   ]
  },
  {
   "cell_type": "markdown",
   "id": "3762d9cc",
   "metadata": {},
   "source": [
    "---\n",
    "\n",
    "### Exercise 14:\n",
    "Find the maximum and minimum values in a NumPy array."
   ]
  },
  {
   "cell_type": "code",
   "execution_count": 33,
   "id": "ba889cc0",
   "metadata": {},
   "outputs": [
    {
     "name": "stdout",
     "output_type": "stream",
     "text": [
      "The maximum value is: 100  and the minimum is: 1\n"
     ]
    }
   ],
   "source": [
    "c=np.arange(1,101)\n",
    "print(\"The maximum value is:\", np.max(c), \" and the minimum is:\", np.min(c))"
   ]
  },
  {
   "cell_type": "markdown",
   "id": "284602b0",
   "metadata": {},
   "source": [
    "---\n",
    "\n",
    "### Exercise 15:\n",
    "Create a NumPy array of 20 random integers and find the index of the maximum value."
   ]
  },
  {
   "cell_type": "code",
   "execution_count": 99,
   "id": "2658a3e6",
   "metadata": {},
   "outputs": [
    {
     "name": "stdout",
     "output_type": "stream",
     "text": [
      "The index of the maximum value is: (array([ 7, 14, 17], dtype=int64),)\n"
     ]
    }
   ],
   "source": [
    "np.random.seed(8102024)\n",
    "n20 = np.random.randint(10,size = 20)\n",
    "m = np.max(n20)\n",
    "index = np.where(n20 == m);\n",
    "print(\"The index of the maximum value is:\", index)\n"
   ]
  },
  {
   "cell_type": "code",
   "execution_count": 100,
   "id": "7c582985",
   "metadata": {},
   "outputs": [
    {
     "name": "stdout",
     "output_type": "stream",
     "text": [
      "7\n"
     ]
    }
   ],
   "source": [
    "m=np.argmax(n20)\n",
    "print(m)"
   ]
  },
  {
   "cell_type": "markdown",
   "id": "00a36b12",
   "metadata": {},
   "source": [
    "---\n",
    "\n",
    "### Exercise 16:\n",
    "Create a NumPy array and reverse its elements."
   ]
  },
  {
   "cell_type": "code",
   "execution_count": 51,
   "id": "42842320",
   "metadata": {},
   "outputs": [
    {
     "data": {
      "text/plain": [
       "array([9, 8, 7, 6, 5, 4, 3, 2, 1, 0])"
      ]
     },
     "execution_count": 51,
     "metadata": {},
     "output_type": "execute_result"
    }
   ],
   "source": [
    "X = np.arange(10)\n",
    "Z = np.flip(X)\n",
    "\n",
    "Z"
   ]
  },
  {
   "cell_type": "markdown",
   "id": "b48a4c1a",
   "metadata": {},
   "source": [
    "---\n",
    "\n",
    "### Exercise 17:\n",
    "Create a 3x3 matrix and multiply it element-wise by another 3x3 matrix."
   ]
  },
  {
   "cell_type": "code",
   "execution_count": 53,
   "id": "a4a93640",
   "metadata": {},
   "outputs": [
    {
     "name": "stdout",
     "output_type": "stream",
     "text": [
      "[[  0  10  22]\n",
      " [ 36  52  70]\n",
      " [ 90 112 136]]\n"
     ]
    }
   ],
   "source": [
    "A = np.arange(9).reshape((3,3))\n",
    "B = np.arange(9,18).reshape((3,3))\n",
    "m= np.multiply(A, B)\n",
    "print(m)"
   ]
  },
  {
   "cell_type": "markdown",
   "id": "fa757c75",
   "metadata": {},
   "source": [
    "---\n",
    "\n",
    "### Exercise 18:\n",
    "Create a diagonal matrix from a given 1D array."
   ]
  },
  {
   "cell_type": "code",
   "execution_count": 54,
   "id": "5f55e6ae",
   "metadata": {},
   "outputs": [
    {
     "data": {
      "text/plain": [
       "array([[0, 0, 0, 0, 0, 0, 0, 0, 0],\n",
       "       [0, 1, 0, 0, 0, 0, 0, 0, 0],\n",
       "       [0, 0, 2, 0, 0, 0, 0, 0, 0],\n",
       "       [0, 0, 0, 3, 0, 0, 0, 0, 0],\n",
       "       [0, 0, 0, 0, 4, 0, 0, 0, 0],\n",
       "       [0, 0, 0, 0, 0, 5, 0, 0, 0],\n",
       "       [0, 0, 0, 0, 0, 0, 6, 0, 0],\n",
       "       [0, 0, 0, 0, 0, 0, 0, 7, 0],\n",
       "       [0, 0, 0, 0, 0, 0, 0, 0, 8]])"
      ]
     },
     "execution_count": 54,
     "metadata": {},
     "output_type": "execute_result"
    }
   ],
   "source": [
    "D1= np.arange(9)\n",
    "D = np.diag(D1)\n",
    "D"
   ]
  },
  {
   "cell_type": "markdown",
   "id": "88747488",
   "metadata": {},
   "source": [
    "---\n",
    "\n",
    "### Exercise 19:\n",
    "Perform matrix multiplication on two 2D NumPy arrays."
   ]
  },
  {
   "cell_type": "code",
   "execution_count": 55,
   "id": "99d6ede3",
   "metadata": {},
   "outputs": [
    {
     "name": "stdout",
     "output_type": "stream",
     "text": [
      "[[ 42  45  48]\n",
      " [150 162 174]\n",
      " [258 279 300]]\n"
     ]
    }
   ],
   "source": [
    "A = np.arange(9).reshape((3,3))\n",
    "B = np.arange(9,18).reshape((3,3))\n",
    "print(np.dot(A,B))"
   ]
  },
  {
   "cell_type": "code",
   "execution_count": 93,
   "id": "d5c4ebf8",
   "metadata": {},
   "outputs": [
    {
     "name": "stdout",
     "output_type": "stream",
     "text": [
      "[[ 42  45  48]\n",
      " [150 162 174]\n",
      " [258 279 300]]\n"
     ]
    }
   ],
   "source": [
    "A = np.arange(9).reshape((3,3))\n",
    "B = np.arange(9,18).reshape((3,3))\n",
    "print(A.dot(B))"
   ]
  },
  {
   "cell_type": "markdown",
   "id": "e524855f",
   "metadata": {},
   "source": [
    "---\n",
    "\n",
    "### Exercise 20:\n",
    "Flatten a 2D NumPy array into a 1D array."
   ]
  },
  {
   "cell_type": "code",
   "execution_count": 59,
   "id": "deb90924",
   "metadata": {},
   "outputs": [
    {
     "data": {
      "text/plain": [
       "array([0, 1, 2, 3, 4, 5, 6, 7, 8])"
      ]
     },
     "execution_count": 59,
     "metadata": {},
     "output_type": "execute_result"
    }
   ],
   "source": [
    "A = np.arange(9).reshape((3,3))\n",
    "W = A.ravel()\n",
    "W"
   ]
  },
  {
   "cell_type": "markdown",
   "id": "852a23b6",
   "metadata": {},
   "source": [
    "---\n",
    "\n",
    "### Exercise 21:\n",
    "Stack two NumPy arrays vertically."
   ]
  },
  {
   "cell_type": "code",
   "execution_count": 62,
   "id": "3292a7ad",
   "metadata": {},
   "outputs": [
    {
     "data": {
      "text/plain": [
       "array([[ 0,  1,  2],\n",
       "       [ 3,  4,  5],\n",
       "       [ 6,  7,  8],\n",
       "       [ 9, 10, 11],\n",
       "       [12, 13, 14],\n",
       "       [15, 16, 17]])"
      ]
     },
     "execution_count": 62,
     "metadata": {},
     "output_type": "execute_result"
    }
   ],
   "source": [
    "A = np.arange(9).reshape((3,3))\n",
    "B = np.arange(9,18).reshape((3,3))\n",
    "C= np.vstack((A,B))\n",
    "C"
   ]
  },
  {
   "cell_type": "markdown",
   "id": "f75a0228",
   "metadata": {},
   "source": [
    "---\n",
    "\n",
    "### Exercise 22:\n",
    "Stack two NumPy arrays horizontally."
   ]
  },
  {
   "cell_type": "code",
   "execution_count": 63,
   "id": "22de3ade",
   "metadata": {},
   "outputs": [
    {
     "data": {
      "text/plain": [
       "array([[ 0,  1,  2,  9, 10, 11],\n",
       "       [ 3,  4,  5, 12, 13, 14],\n",
       "       [ 6,  7,  8, 15, 16, 17]])"
      ]
     },
     "execution_count": 63,
     "metadata": {},
     "output_type": "execute_result"
    }
   ],
   "source": [
    "A = np.arange(9).reshape((3,3))\n",
    "B = np.arange(9,18).reshape((3,3))\n",
    "C= np.hstack((A,B))\n",
    "C"
   ]
  },
  {
   "cell_type": "markdown",
   "id": "a2b8e14c",
   "metadata": {},
   "source": [
    "---\n",
    "\n",
    "### Exercise 23:\n",
    "Split a NumPy array into multiple sub-arrays."
   ]
  },
  {
   "cell_type": "code",
   "execution_count": 65,
   "id": "cd400fad",
   "metadata": {},
   "outputs": [
    {
     "name": "stdout",
     "output_type": "stream",
     "text": [
      "[array([[ 0,  1,  2,  9, 10, 11]]), array([[ 3,  4,  5, 12, 13, 14]]), array([[ 6,  7,  8, 15, 16, 17]])]\n"
     ]
    }
   ],
   "source": [
    "A = np.arange(9).reshape((3,3))\n",
    "B = np.arange(9,18).reshape((3,3))\n",
    "C= np.hstack((A,B))\n",
    "print(np.split(C,3)) # 3 equal sized subarrays"
   ]
  },
  {
   "cell_type": "markdown",
   "id": "0e429cd0",
   "metadata": {},
   "source": [
    "---\n",
    "\n",
    "### Exercise 24:\n",
    "Generate a random NumPy array and round each element to two decimal places."
   ]
  },
  {
   "cell_type": "code",
   "execution_count": 66,
   "id": "1b078c6d",
   "metadata": {},
   "outputs": [
    {
     "data": {
      "text/plain": [
       "array([[0.84150463, 0.98888176, 0.08490676, 0.53549355],\n",
       "       [0.90010679, 0.91097961, 0.59591404, 0.96887406],\n",
       "       [0.41811546, 0.35410523, 0.94077555, 0.3806912 ],\n",
       "       [0.58671376, 0.8458463 , 0.10862643, 0.26214823]])"
      ]
     },
     "execution_count": 66,
     "metadata": {},
     "output_type": "execute_result"
    }
   ],
   "source": [
    "v=np.random.random((4,4))\n",
    "v"
   ]
  },
  {
   "cell_type": "code",
   "execution_count": 69,
   "id": "1e6c83d8",
   "metadata": {},
   "outputs": [
    {
     "data": {
      "text/plain": [
       "array([[0.84, 0.99, 0.08, 0.54],\n",
       "       [0.9 , 0.91, 0.6 , 0.97],\n",
       "       [0.42, 0.35, 0.94, 0.38],\n",
       "       [0.59, 0.85, 0.11, 0.26]])"
      ]
     },
     "execution_count": 69,
     "metadata": {},
     "output_type": "execute_result"
    }
   ],
   "source": [
    "V=np.around(v, decimals = 2)\n",
    "V"
   ]
  },
  {
   "cell_type": "markdown",
   "id": "7e0db31e",
   "metadata": {},
   "source": [
    "---\n",
    "\n",
    "### Exercise 25:\n",
    "Find the unique elements of a NumPy array."
   ]
  },
  {
   "cell_type": "code",
   "execution_count": 72,
   "id": "fec0a89e",
   "metadata": {},
   "outputs": [
    {
     "data": {
      "text/plain": [
       "array([[1, 1, 1, 1],\n",
       "       [1, 1, 1, 1],\n",
       "       [1, 1, 1, 1]])"
      ]
     },
     "execution_count": 72,
     "metadata": {},
     "output_type": "execute_result"
    }
   ],
   "source": [
    "C = np.ones((3,4), dtype = int)\n",
    "C"
   ]
  },
  {
   "cell_type": "code",
   "execution_count": 73,
   "id": "c84a5d05",
   "metadata": {},
   "outputs": [
    {
     "name": "stdout",
     "output_type": "stream",
     "text": [
      "[1]\n"
     ]
    }
   ],
   "source": [
    "print(np.unique(C))"
   ]
  },
  {
   "cell_type": "markdown",
   "id": "917b74bb",
   "metadata": {},
   "source": [
    "---\n",
    "\n",
    "### Exercise 26:\n",
    "Replace all elements in a NumPy array that are less than a specific value with that value."
   ]
  },
  {
   "cell_type": "code",
   "execution_count": 74,
   "id": "d887ed49",
   "metadata": {},
   "outputs": [
    {
     "data": {
      "text/plain": [
       "array([[0.84, 0.99, 0.08, 0.54],\n",
       "       [0.9 , 0.91, 0.6 , 0.97],\n",
       "       [0.42, 0.35, 0.94, 0.38],\n",
       "       [0.59, 0.85, 0.11, 0.26]])"
      ]
     },
     "execution_count": 74,
     "metadata": {},
     "output_type": "execute_result"
    }
   ],
   "source": [
    "V=np.around(v, decimals = 2)\n",
    "V"
   ]
  },
  {
   "cell_type": "code",
   "execution_count": 76,
   "id": "d871aa79",
   "metadata": {},
   "outputs": [
    {
     "data": {
      "text/plain": [
       "array([[0.84, 0.99, 0.2 , 0.54],\n",
       "       [0.9 , 0.91, 0.6 , 0.97],\n",
       "       [0.42, 0.35, 0.94, 0.38],\n",
       "       [0.59, 0.85, 0.2 , 0.26]])"
      ]
     },
     "execution_count": 76,
     "metadata": {},
     "output_type": "execute_result"
    }
   ],
   "source": [
    "Replaced = np.where(V < 0.2, 0.2, V )\n",
    "Replaced"
   ]
  },
  {
   "cell_type": "markdown",
   "id": "ed39328e",
   "metadata": {},
   "source": [
    "---\n",
    "\n",
    "### Exercise 27:\n",
    "Find the cumulative sum of the elements in a NumPy array."
   ]
  },
  {
   "cell_type": "code",
   "execution_count": 78,
   "id": "55b8bd36",
   "metadata": {},
   "outputs": [
    {
     "name": "stdout",
     "output_type": "stream",
     "text": [
      "[ 0  1  3  6 10 15 21 28 36]\n"
     ]
    }
   ],
   "source": [
    "A = np.arange(9)\n",
    "print(np.cumsum(A))"
   ]
  },
  {
   "cell_type": "markdown",
   "id": "6f239786",
   "metadata": {},
   "source": [
    "---\n",
    "\n",
    "### Exercise 28:\n",
    "Create a NumPy array and find the number of non-zero elements in it."
   ]
  },
  {
   "cell_type": "code",
   "execution_count": 79,
   "id": "6912be57",
   "metadata": {},
   "outputs": [
    {
     "data": {
      "text/plain": [
       "8"
      ]
     },
     "execution_count": 79,
     "metadata": {},
     "output_type": "execute_result"
    }
   ],
   "source": [
    "A = np.arange(9).reshape((3,3))\n",
    "np.count_nonzero(A)"
   ]
  },
  {
   "cell_type": "markdown",
   "id": "f4d08079",
   "metadata": {},
   "source": [
    "---\n",
    "\n",
    "### Exercise 29:\n",
    "Create a NumPy array of random integers and sort it in ascending order."
   ]
  },
  {
   "cell_type": "code",
   "execution_count": 80,
   "id": "3966de1c",
   "metadata": {},
   "outputs": [
    {
     "data": {
      "text/plain": [
       "array([3, 7, 2, 5, 7, 4, 8, 8, 7, 3, 6, 4, 3, 5, 8, 3, 0, 1, 3, 4])"
      ]
     },
     "execution_count": 80,
     "metadata": {},
     "output_type": "execute_result"
    }
   ],
   "source": [
    "n20 = np.random.randint(10,size = 20)\n",
    "n20"
   ]
  },
  {
   "cell_type": "code",
   "execution_count": 84,
   "id": "8f0d7d28",
   "metadata": {},
   "outputs": [
    {
     "name": "stdout",
     "output_type": "stream",
     "text": [
      "[0 1 2 3 3 3 3 3 4 4 4 5 5 6 7 7 7 8 8 8]\n"
     ]
    }
   ],
   "source": [
    "print(np.sort(n20))"
   ]
  },
  {
   "cell_type": "markdown",
   "id": "5512863c",
   "metadata": {},
   "source": [
    "---\n",
    "\n",
    "### Exercise 30:\n",
    "Find the row-wise and column-wise sum of a 3x3 matrix."
   ]
  },
  {
   "cell_type": "code",
   "execution_count": 85,
   "id": "902565ae",
   "metadata": {},
   "outputs": [
    {
     "data": {
      "text/plain": [
       "array([24, 28, 32, 36])"
      ]
     },
     "execution_count": 85,
     "metadata": {},
     "output_type": "execute_result"
    }
   ],
   "source": [
    "mat = np.arange(16).reshape((4,4))\n",
    "np.sum(mat, axis=0)   ### column-wise\n",
    " "
   ]
  },
  {
   "cell_type": "code",
   "execution_count": 86,
   "id": "ee680ac4",
   "metadata": {},
   "outputs": [
    {
     "data": {
      "text/plain": [
       "array([ 6, 22, 38, 54])"
      ]
     },
     "execution_count": 86,
     "metadata": {},
     "output_type": "execute_result"
    }
   ],
   "source": [
    "\n",
    "np.sum(mat, axis=1)   ### row-wise "
   ]
  },
  {
   "cell_type": "markdown",
   "id": "ab36d188",
   "metadata": {},
   "source": [
    "---\n",
    "\n",
    "### Exercise 31:\n",
    "Generate a 2D NumPy array with random values and normalize it (scale the values between 0 and 1)."
   ]
  },
  {
   "cell_type": "code",
   "execution_count": 90,
   "id": "808e98c8",
   "metadata": {},
   "outputs": [
    {
     "data": {
      "text/plain": [
       "array([[ 6, 15, 15,  4],\n",
       "       [12, 10, 10,  4],\n",
       "       [15, 10,  7,  5],\n",
       "       [ 9, 10, 15, 14]])"
      ]
     },
     "execution_count": 90,
     "metadata": {},
     "output_type": "execute_result"
    }
   ],
   "source": [
    "mat = np.random.randint(16, size = ((4,4)))\n",
    "mat\n"
   ]
  },
  {
   "cell_type": "code",
   "execution_count": 91,
   "id": "ea0c8c14",
   "metadata": {},
   "outputs": [
    {
     "data": {
      "text/plain": [
       "array([[0.18181818, 1.        , 1.        , 0.        ],\n",
       "       [0.72727273, 0.54545455, 0.54545455, 0.        ],\n",
       "       [1.        , 0.54545455, 0.27272727, 0.09090909],\n",
       "       [0.45454545, 0.54545455, 1.        , 0.90909091]])"
      ]
     },
     "execution_count": 91,
     "metadata": {},
     "output_type": "execute_result"
    }
   ],
   "source": [
    "matNorm = (mat-np.min(mat))/(np.max(mat)-np.min(mat))\n",
    "matNorm"
   ]
  },
  {
   "cell_type": "markdown",
   "id": "7fe1a3ad",
   "metadata": {},
   "source": [
    "---\n",
    "\n",
    "### Exercise 32:\n",
    "Create two NumPy arrays and find the dot product."
   ]
  },
  {
   "cell_type": "code",
   "execution_count": 95,
   "id": "8f353f09",
   "metadata": {},
   "outputs": [
    {
     "name": "stdout",
     "output_type": "stream",
     "text": [
      "528\n"
     ]
    }
   ],
   "source": [
    "A = np.arange(9)\n",
    "B = np.arange(9,18)\n",
    "print(A.dot(B))"
   ]
  },
  {
   "cell_type": "markdown",
   "id": "f358e67b",
   "metadata": {},
   "source": [
    "---\n",
    "\n",
    "### Exercise 33:\n",
    "Find the trace of a square NumPy matrix."
   ]
  },
  {
   "cell_type": "code",
   "execution_count": 96,
   "id": "e27b9d06",
   "metadata": {},
   "outputs": [
    {
     "name": "stdout",
     "output_type": "stream",
     "text": [
      "12\n"
     ]
    }
   ],
   "source": [
    "A = np.arange(9).reshape((3,3))\n",
    "print(np.trace(A))"
   ]
  },
  {
   "cell_type": "markdown",
   "id": "507bc7dd",
   "metadata": {},
   "source": [
    "---\n",
    "\n",
    "### Exercise 34:\n",
    "Create a 2D array and swap two rows."
   ]
  },
  {
   "cell_type": "code",
   "execution_count": 97,
   "id": "659aedb9",
   "metadata": {},
   "outputs": [
    {
     "data": {
      "text/plain": [
       "array([[0, 1, 2],\n",
       "       [3, 4, 5],\n",
       "       [6, 7, 8]])"
      ]
     },
     "execution_count": 97,
     "metadata": {},
     "output_type": "execute_result"
    }
   ],
   "source": [
    "A = np.arange(9).reshape((3,3))\n",
    "A"
   ]
  },
  {
   "cell_type": "code",
   "execution_count": 98,
   "id": "32c1f3c0",
   "metadata": {},
   "outputs": [
    {
     "data": {
      "text/plain": [
       "array([[3, 4, 5],\n",
       "       [0, 1, 2],\n",
       "       [6, 7, 8]])"
      ]
     },
     "execution_count": 98,
     "metadata": {},
     "output_type": "execute_result"
    }
   ],
   "source": [
    "A = A[[1,0,2]] # Swapping the first and second rows\n",
    "A"
   ]
  },
  {
   "cell_type": "markdown",
   "id": "fc06fb39",
   "metadata": {},
   "source": [
    "---\n",
    "\n",
    "### Exercise 35:\n",
    "Create a 1D NumPy array and convert it into a column vector."
   ]
  },
  {
   "cell_type": "code",
   "execution_count": 101,
   "id": "d82709ac",
   "metadata": {},
   "outputs": [
    {
     "data": {
      "text/plain": [
       "array([[ 0],\n",
       "       [ 1],\n",
       "       [ 2],\n",
       "       [ 3],\n",
       "       [ 4],\n",
       "       [ 5],\n",
       "       [ 6],\n",
       "       [ 7],\n",
       "       [ 8],\n",
       "       [ 9],\n",
       "       [10],\n",
       "       [11],\n",
       "       [12],\n",
       "       [13],\n",
       "       [14],\n",
       "       [15]])"
      ]
     },
     "execution_count": 101,
     "metadata": {},
     "output_type": "execute_result"
    }
   ],
   "source": [
    "U = np.arange(16)\n",
    "U=U.reshape(-1,1)\n",
    "U"
   ]
  },
  {
   "cell_type": "markdown",
   "id": "983b3cd4",
   "metadata": {},
   "source": [
    "---\n",
    "\n",
    "### Exercise 36:\n",
    "Find the determinant of a 3x3 matrix."
   ]
  },
  {
   "cell_type": "code",
   "execution_count": 105,
   "id": "ec121c6a",
   "metadata": {},
   "outputs": [
    {
     "name": "stdout",
     "output_type": "stream",
     "text": [
      "4.996003610813198e-15\n"
     ]
    }
   ],
   "source": [
    "A = np.arange(9,18).reshape((3,3))\n",
    "print(np.linalg.det(A))"
   ]
  },
  {
   "cell_type": "markdown",
   "id": "f453440b",
   "metadata": {},
   "source": [
    "---\n",
    "\n",
    "### Exercise 37:\n",
    "Find the eigenvalues and eigenvectors of a 2x2 matrix."
   ]
  },
  {
   "cell_type": "code",
   "execution_count": 106,
   "id": "3104ad52",
   "metadata": {},
   "outputs": [
    {
     "name": "stdout",
     "output_type": "stream",
     "text": [
      "(array([-0.09481005, 21.09481005]), array([[-0.73979641, -0.63720844],\n",
      "       [ 0.67283079, -0.77069151]]))\n"
     ]
    }
   ],
   "source": [
    "Q = np.arange(9,13).reshape((2,2))\n",
    "print(np.linalg.eig(Q))"
   ]
  },
  {
   "cell_type": "markdown",
   "id": "c62f153a",
   "metadata": {},
   "source": [
    "---\n",
    "\n",
    "### Exercise 38:\n",
    "Solve a system of linear equations using NumPy."
   ]
  },
  {
   "cell_type": "code",
   "execution_count": 108,
   "id": "7f7fdfee",
   "metadata": {},
   "outputs": [
    {
     "name": "stdout",
     "output_type": "stream",
     "text": [
      "[[ 9 10 11]\n",
      " [12 13 14]\n",
      " [15 16 17]]\n",
      "[6 7 8]\n"
     ]
    }
   ],
   "source": [
    "A = np.arange(9,18).reshape((3,3))\n",
    "b =np.arange(6,9)\n",
    "print(A)\n",
    "print(b)"
   ]
  },
  {
   "cell_type": "code",
   "execution_count": 109,
   "id": "0bccb9bc",
   "metadata": {},
   "outputs": [
    {
     "name": "stdout",
     "output_type": "stream",
     "text": [
      "[-1.89478063e-15 -2.33333333e+00  2.66666667e+00]\n"
     ]
    }
   ],
   "source": [
    "x = np.linalg.solve(A, b)\n",
    "print(x)"
   ]
  },
  {
   "cell_type": "markdown",
   "id": "21cb4c06",
   "metadata": {},
   "source": [
    "---\n",
    "\n",
    "### Exercise 39:\n",
    "Add Gaussian noise to a NumPy array."
   ]
  },
  {
   "cell_type": "markdown",
   "id": "e5739a08",
   "metadata": {},
   "source": [
    "---\n",
    "\n",
    "### Exercise 40:\n",
    "Create a 4x4 matrix and extract the diagonal elements."
   ]
  },
  {
   "cell_type": "code",
   "execution_count": 111,
   "id": "01ac59ac",
   "metadata": {},
   "outputs": [
    {
     "name": "stdout",
     "output_type": "stream",
     "text": [
      "[ 1  6 11 16]\n"
     ]
    }
   ],
   "source": [
    "v4 = np.arange(1,17).reshape((4,4))\n",
    "print(np.diag(v4))"
   ]
  },
  {
   "cell_type": "markdown",
   "id": "3c50cbbe",
   "metadata": {},
   "source": [
    "---\n",
    "\n",
    "### Exercise 41:\n",
    "Generate a NumPy array of 100 random values and clip the values to a range between 10 and 50."
   ]
  },
  {
   "cell_type": "markdown",
   "id": "b4f84640",
   "metadata": {},
   "source": [
    "---\n",
    "\n",
    "### Exercise 42:\n",
    "Create a 2D NumPy array and replace all negative values with zero."
   ]
  },
  {
   "cell_type": "markdown",
   "id": "f20e6691",
   "metadata": {},
   "source": [
    "---\n",
    "\n",
    "### Exercise 43:\n",
    "Find the inner and outer products of two NumPy arrays."
   ]
  },
  {
   "cell_type": "markdown",
   "id": "3111d602",
   "metadata": {},
   "source": [
    "---\n",
    "\n",
    "### Exercise 44:\n",
    "Calculate the pairwise distances between points in a NumPy array."
   ]
  },
  {
   "cell_type": "markdown",
   "id": "035ace75",
   "metadata": {},
   "source": [
    "---\n",
    "\n",
    "### Exercise 45:\n",
    "Create a structured NumPy array with fields for `name`, `age`, and `height`."
   ]
  },
  {
   "cell_type": "markdown",
   "id": "f07bc5f1",
   "metadata": {},
   "source": [
    "---\n",
    "\n",
    "### Exercise 46:\n",
    "Create a 5x5 matrix of random integers and count the occurrences of each unique value."
   ]
  },
  {
   "cell_type": "markdown",
   "id": "2099e9fa",
   "metadata": {},
   "source": [
    "---\n",
    "\n",
    "### Exercise 47:\n",
    "Generate a random 3x3 NumPy array and subtract the mean of each row from the corresponding row."
   ]
  },
  {
   "cell_type": "markdown",
   "id": "788667f7",
   "metadata": {},
   "source": [
    "---\n",
    "\n",
    "### Exercise 48:\n",
    "Create a NumPy array of random integers and check if any of the values are greater than 50."
   ]
  },
  {
   "cell_type": "markdown",
   "id": "49aa0fa0",
   "metadata": {},
   "source": [
    "---\n",
    "\n",
    "### Exercise 49:\n",
    "Calculate the moving average of a 1D NumPy array."
   ]
  },
  {
   "cell_type": "markdown",
   "id": "bdd21868",
   "metadata": {},
   "source": [
    "---\n",
    "\n",
    "### Exercise 50:\n",
    "Find the Pearson correlation coefficient between two NumPy arrays."
   ]
  },
  {
   "cell_type": "markdown",
   "id": "b043e00e",
   "metadata": {},
   "source": [
    "---\n",
    "\n",
    "### Exercise 51:\n",
    "Convert a NumPy array of radians to degrees."
   ]
  },
  {
   "cell_type": "markdown",
   "id": "c66e1e2e",
   "metadata": {},
   "source": [
    "---\n",
    "\n",
    "### Exercise 52:\n",
    "Create a random NumPy array and compute its variance and standard deviation."
   ]
  },
  {
   "cell_type": "markdown",
   "id": "3f4e3f73",
   "metadata": {},
   "source": [
    "---\n",
    "\n",
    "### Exercise 53:\n",
    "Create a 2D NumPy array and find the indices of the maximum values along each axis."
   ]
  },
  {
   "cell_type": "markdown",
   "id": "41640eae",
   "metadata": {},
   "source": [
    "---\n",
    "\n",
    "### Exercise 54:\n",
    "Compute the inverse of a 2x2 NumPy matrix."
   ]
  },
  {
   "cell_type": "markdown",
   "id": "aa6235cc",
   "metadata": {},
   "source": [
    "---\n",
    "\n",
    "### Exercise 55:\n",
    "Create a NumPy array of 10 random values and standardize it (mean 0, variance 1)."
   ]
  },
  {
   "cell_type": "markdown",
   "id": "78465c72",
   "metadata": {},
   "source": [
    "---\n",
    "\n",
    "### Exercise 56:\n",
    "Perform element-wise addition and subtraction on two NumPy arrays."
   ]
  },
  {
   "cell_type": "markdown",
   "id": "e309bb7a",
   "metadata": {},
   "source": [
    "---\n",
    "\n",
    "### Exercise 57:\n",
    "Create a NumPy array of random values and find the maximum element's index."
   ]
  },
  {
   "cell_type": "markdown",
   "id": "73123706",
   "metadata": {},
   "source": [
    "---\n",
    "\n",
    "### Exercise 58:\n",
    "Create a 3x3 NumPy array and rotate it by 90 degrees."
   ]
  },
  {
   "cell_type": "markdown",
   "id": "9ddb7b92",
   "metadata": {},
   "source": [
    "---\n",
    "\n",
    "### Exercise 59:\n",
    "Compute the Frobenius norm of a matrix."
   ]
  },
  {
   "cell_type": "markdown",
   "id": "e1b1e27f",
   "metadata": {},
   "source": [
    "---\n",
    "\n",
    "### Exercise 60:\n",
    "Create a 3D NumPy array and slice out a subarray."
   ]
  },
  {
   "cell_type": "code",
   "execution_count": null,
   "id": "bcc13df3",
   "metadata": {},
   "outputs": [],
   "source": []
  }
 ],
 "metadata": {
  "kernelspec": {
   "display_name": "Python 3 (ipykernel)",
   "language": "python",
   "name": "python3"
  },
  "language_info": {
   "codemirror_mode": {
    "name": "ipython",
    "version": 3
   },
   "file_extension": ".py",
   "mimetype": "text/x-python",
   "name": "python",
   "nbconvert_exporter": "python",
   "pygments_lexer": "ipython3",
   "version": "3.11.5"
  }
 },
 "nbformat": 4,
 "nbformat_minor": 5
}
