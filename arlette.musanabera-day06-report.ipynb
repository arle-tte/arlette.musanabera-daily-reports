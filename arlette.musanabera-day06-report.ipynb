{
 "cells": [
  {
   "cell_type": "markdown",
   "id": "61fc6ee8",
   "metadata": {},
   "source": [
    "# SUMMATIONS AND PRODUCTS"
   ]
  },
  {
   "cell_type": "markdown",
   "id": "46539fa6",
   "metadata": {},
   "source": [
    "### 1.\n"
   ]
  },
  {
   "cell_type": "markdown",
   "id": "4ec669b8",
   "metadata": {},
   "source": [
    "#### (i)"
   ]
  },
  {
   "cell_type": "code",
   "execution_count": 3,
   "id": "61753f53",
   "metadata": {},
   "outputs": [
    {
     "name": "stdout",
     "output_type": "stream",
     "text": [
      "Please enter a natural number:-2\n",
      "The sum is: 4\n"
     ]
    }
   ],
   "source": [
    "n = abs(int(input(\"Please enter a natural number:\")))\n",
    "Sum = 0\n",
    "for i in range(n):\n",
    "    if (i % 2 == 1):\n",
    "        Sum = Sum + (i+3)\n",
    "print(\"The sum is:\", sum)\n",
    "        "
   ]
  },
  {
   "cell_type": "markdown",
   "id": "7718af72",
   "metadata": {},
   "source": [
    "#### (ii)"
   ]
  },
  {
   "cell_type": "code",
   "execution_count": 4,
   "id": "29f30c47",
   "metadata": {},
   "outputs": [
    {
     "name": "stdout",
     "output_type": "stream",
     "text": [
      "Please enter a natural number:-4\n",
      "The product is: 15\n"
     ]
    }
   ],
   "source": [
    "n = abs(int(input(\"Please enter a natural number:\")))\n",
    "product = 1\n",
    "for i in range(n):\n",
    "    if (i % 2 == 0):\n",
    "        product = product * (i+3)\n",
    "print(\"The product is:\", product)"
   ]
  },
  {
   "cell_type": "markdown",
   "id": "c4d8a40e",
   "metadata": {},
   "source": [
    "### 2."
   ]
  },
  {
   "cell_type": "code",
   "execution_count": 12,
   "id": "d2e1fd84",
   "metadata": {},
   "outputs": [
    {
     "name": "stdout",
     "output_type": "stream",
     "text": [
      "Please enter a number in the range[0,6]:5\n",
      "Friday\n"
     ]
    }
   ],
   "source": [
    "day = int(input(\"Please enter a number in the range[0,6]:\"))\n",
    "days = [\"Sunday\", \"Monday\", \"Tuesday\", \"Wednesday\", \"Thursday\", \"Friday\", \"Saturday\"]\n",
    "dayy = days[day]\n",
    "if (day in range(1,6)):\n",
    "    print(dayy)\n",
    "elif (day in {0,6}):\n",
    "    print(\"Weekend\")\n",
    "else:\n",
    "    print(\"You entered a wrong number\")"
   ]
  },
  {
   "cell_type": "markdown",
   "id": "22305abf",
   "metadata": {},
   "source": [
    "### 3."
   ]
  },
  {
   "cell_type": "code",
   "execution_count": 14,
   "id": "0d77c2ed",
   "metadata": {},
   "outputs": [
    {
     "name": "stdout",
     "output_type": "stream",
     "text": [
      "Please enter a number in the range[0,11]:4\n",
      "The month of May has 31 days\n"
     ]
    }
   ],
   "source": [
    "month = int(input(\"Please enter a number in the range[0,11]:\"))\n",
    "months = [\"January\", \"February\", \"March\", \"April\", \"May\", \"June\", \"July\", \"August\", \"September\", \"October\", \"November\", \"December\"]\n",
    "m = months[month]\n",
    "if (month in {0, 2, 4, 6, 7, 9, 11}):\n",
    "    print(\"The month of\", m, \"has 31 days\")\n",
    "elif (month in {3,5,8,10}):\n",
    "    print(\"The month of\", m, \"has 30 days\")\n",
    "elif (month == 1):\n",
    "    print(\"The month of\", m, \"has 28 days\")\n",
    "else:\n",
    "    print(\"You entered a wrong number\")"
   ]
  },
  {
   "cell_type": "markdown",
   "id": "d4052cc2",
   "metadata": {},
   "source": [
    "### 4."
   ]
  },
  {
   "cell_type": "code",
   "execution_count": 15,
   "id": "ca492e62",
   "metadata": {},
   "outputs": [
    {
     "name": "stdout",
     "output_type": "stream",
     "text": [
      "Arlette Musanabera\n",
      "Arlette Musanabera\n",
      "Arlette Musanabera\n"
     ]
    }
   ],
   "source": [
    "#  For loop:\n",
    "for i in range(3):\n",
    "    print(\"Arlette Musanabera\")"
   ]
  },
  {
   "cell_type": "code",
   "execution_count": 18,
   "id": "3ef9ef15",
   "metadata": {},
   "outputs": [
    {
     "name": "stdout",
     "output_type": "stream",
     "text": [
      "Arlette Musanabera\n",
      "Arlette Musanabera\n",
      "Arlette Musanabera\n"
     ]
    }
   ],
   "source": [
    "# While loop\n",
    "i = 0\n",
    "while i < 3:\n",
    "    print(\"Arlette Musanabera\")\n",
    "    i +=1"
   ]
  },
  {
   "cell_type": "markdown",
   "id": "bd1505c0",
   "metadata": {},
   "source": [
    "### 5."
   ]
  },
  {
   "cell_type": "code",
   "execution_count": 20,
   "id": "ca2ffaf0",
   "metadata": {},
   "outputs": [
    {
     "name": "stdout",
     "output_type": "stream",
     "text": [
      "Enter the first initial value:3\n",
      "Enter the second initial value:4\n",
      "3\n",
      "4\n",
      "7\n",
      "11\n",
      "18\n",
      "29\n",
      "47\n",
      "76\n",
      "123\n",
      "199\n",
      "322\n",
      "521\n",
      "843\n",
      "1364\n",
      "2207\n"
     ]
    }
   ],
   "source": [
    "a0 = int(input(\"Enter the first initial value:\"))\n",
    "a1 = int(input(\"Enter the second initial value:\"))\n",
    "print(a0)\n",
    "print(a1)\n",
    "for i in range(13):\n",
    "    an = a0 + a1\n",
    "    a0 = a1\n",
    "    a1 = an\n",
    "    print(an)"
   ]
  },
  {
   "cell_type": "markdown",
   "id": "f51a059b",
   "metadata": {},
   "source": [
    "### 6."
   ]
  },
  {
   "cell_type": "code",
   "execution_count": 21,
   "id": "6e578bfe",
   "metadata": {},
   "outputs": [
    {
     "name": "stdout",
     "output_type": "stream",
     "text": [
      "Enter the first initial value:2\n",
      "Enter the second initial value:3\n",
      "2\n",
      "3\n",
      "7.5\n",
      "12.75\n",
      "28.875\n",
      "52.6875\n",
      "112.96875\n",
      "214.546875\n",
      "446.1796875\n",
      "866.73046875\n",
      "1771.904296875\n",
      "3486.1435546875\n",
      "7058.78466796875\n",
      "13987.822998046875\n",
      "28170.265502929688\n",
      "56048.60174560547\n",
      "112535.0973815918\n",
      "224413.3539276123\n",
      "449811.96910858154\n",
      "898146.0463371277\n",
      "1798508.9304943085\n",
      "3593692.6042585373\n",
      "7192373.093612194\n",
      "14377264.359581709\n",
      "28765751.460627437\n",
      "57514668.809058845\n",
      "115054588.78641173\n",
      "230071300.82038242\n",
      "460199416.76942635\n",
      "920313610.8458605\n"
     ]
    }
   ],
   "source": [
    "x0 = int(input(\"Enter the first initial value:\"))\n",
    "x1 = int(input(\"Enter the second initial value:\"))\n",
    "print(x0)\n",
    "print(x1)\n",
    "for i in range(28):\n",
    "    xn = (1/2)*(x1 + 6*x0)\n",
    "    print(xn)\n",
    "    x0 = x1\n",
    "    x1 = xn"
   ]
  },
  {
   "cell_type": "markdown",
   "id": "65ef3d75",
   "metadata": {},
   "source": [
    "### 7. Leap Year"
   ]
  },
  {
   "cell_type": "markdown",
   "id": "698fd6dd",
   "metadata": {},
   "source": [
    "#### a) "
   ]
  },
  {
   "cell_type": "code",
   "execution_count": 23,
   "id": "bdf2e06f",
   "metadata": {},
   "outputs": [
    {
     "name": "stdout",
     "output_type": "stream",
     "text": [
      "Enter a year:2024\n",
      "The year 2024 is a leap year\n"
     ]
    }
   ],
   "source": [
    "year = int(input(\"Enter a year:\"))\n",
    "if ((year % 4 == 0 and year % 100 != 0) or (year % 400 == 0)):\n",
    "    print(\"The year\", year, \"is a leap year\")\n",
    "else:\n",
    "    print(\"The year\", year, \"is not a leap year\")"
   ]
  },
  {
   "cell_type": "markdown",
   "id": "9da8453a",
   "metadata": {},
   "source": [
    "#### b)"
   ]
  },
  {
   "cell_type": "code",
   "execution_count": 24,
   "id": "b289ee0e",
   "metadata": {},
   "outputs": [
    {
     "name": "stdout",
     "output_type": "stream",
     "text": [
      "Enter a year: 2024\n",
      "2024 is a leap year.\n"
     ]
    }
   ],
   "source": [
    "year = int(input(\"Enter a year: \"))\n",
    "\n",
    "leap_year = (year % 4 == 0) and (year % 100 != 0) or (year % 400 == 0)\n",
    "print(f\"{year} is a leap year.\" if leap_year else f\"{year} is not a leap year.\")"
   ]
  },
  {
   "cell_type": "markdown",
   "id": "5d6e47fd",
   "metadata": {},
   "source": [
    "### 8."
   ]
  },
  {
   "cell_type": "markdown",
   "id": "57b62557",
   "metadata": {},
   "source": [
    "#### a)"
   ]
  },
  {
   "cell_type": "code",
   "execution_count": 27,
   "id": "8f9aef03",
   "metadata": {},
   "outputs": [
    {
     "name": "stdout",
     "output_type": "stream",
     "text": [
      "Enter the range of calculation:3\n",
      "14\n"
     ]
    }
   ],
   "source": [
    "# For loop\n",
    "n = abs(int(input(\"Enter the range of calculation:\")))\n",
    "Sum = 0\n",
    "for i in range(n+1):\n",
    "        Sum = Sum + (i**2)\n",
    "print(Sum)"
   ]
  },
  {
   "cell_type": "code",
   "execution_count": 28,
   "id": "d547e052",
   "metadata": {},
   "outputs": [
    {
     "name": "stdout",
     "output_type": "stream",
     "text": [
      "Enter the range of calculation:3\n",
      "14\n"
     ]
    }
   ],
   "source": [
    "# While loop\n",
    "n = abs(int(input(\"Enter the range of calculation:\")))\n",
    "Sum = 0\n",
    "i = 1\n",
    "while i <= n:\n",
    "    Sum = Sum + (i**2)\n",
    "    i+=1\n",
    "print(Sum)\n",
    "\n",
    "    "
   ]
  },
  {
   "cell_type": "markdown",
   "id": "7b78c07a",
   "metadata": {},
   "source": [
    "#### b)"
   ]
  },
  {
   "cell_type": "code",
   "execution_count": 29,
   "id": "a99bca23",
   "metadata": {},
   "outputs": [
    {
     "name": "stdout",
     "output_type": "stream",
     "text": [
      "Enter a natural number:5\n",
      "2\n"
     ]
    }
   ],
   "source": [
    "#For loop\n",
    "M = abs(int(input(\"Enter a natural number:\"))) \n",
    "Sum = 0\n",
    "for i in range(M):\n",
    "    Sum = Sum + (i**2)\n",
    "    if Sum >= M:\n",
    "        print(i)\n",
    "        break\n",
    "        "
   ]
  },
  {
   "cell_type": "code",
   "execution_count": 35,
   "id": "03c08522",
   "metadata": {},
   "outputs": [
    {
     "name": "stdout",
     "output_type": "stream",
     "text": [
      "Enter a natural number:5\n",
      "2\n"
     ]
    }
   ],
   "source": [
    "# While loop\n",
    "M = abs(int(input(\"Enter a natural number:\"))) \n",
    "Sum = 0\n",
    "i = 0\n",
    "while i <= M:\n",
    "    Sum = Sum + (i**2)\n",
    "    if Sum >= M:\n",
    "        print(i)\n",
    "        break\n",
    "    i+=1\n"
   ]
  },
  {
   "cell_type": "markdown",
   "id": "7ab86fb9",
   "metadata": {},
   "source": [
    "### 9."
   ]
  },
  {
   "cell_type": "markdown",
   "id": "c06f94ae",
   "metadata": {},
   "source": [
    "#### a)"
   ]
  },
  {
   "cell_type": "code",
   "execution_count": 47,
   "id": "dcd0aab7",
   "metadata": {},
   "outputs": [
    {
     "name": "stdout",
     "output_type": "stream",
     "text": [
      "Enter a natural number:20\n",
      "1\n",
      "2\n",
      "4\n",
      "5\n",
      "10\n",
      "20\n"
     ]
    }
   ],
   "source": [
    "n = abs(int(input(\"Enter a natural number:\")))\n",
    "for i in range(1,n+1):\n",
    "    if (n % i == 0):\n",
    "        print(i)\n"
   ]
  },
  {
   "cell_type": "markdown",
   "id": "55c329b1",
   "metadata": {},
   "source": [
    "#### b)"
   ]
  },
  {
   "cell_type": "code",
   "execution_count": 48,
   "id": "4b24cbc4",
   "metadata": {},
   "outputs": [
    {
     "name": "stdout",
     "output_type": "stream",
     "text": [
      "Enter a natural number:20\n"
     ]
    },
    {
     "data": {
      "text/plain": [
       "[2, 5]"
      ]
     },
     "execution_count": 48,
     "metadata": {},
     "output_type": "execute_result"
    }
   ],
   "source": [
    "n = int(input(\"Enter a natural number:\"))\n",
    "factors = []\n",
    "for i in range(2,n+1):\n",
    "    if (n % i == 0) :\n",
    "        factors.append(i)\n",
    "primeFact = []\n",
    "for n in factors:\n",
    "    isPrime = True\n",
    "    if n == 1:\n",
    "        continue\n",
    "    else:\n",
    "        for j in range(2, n):\n",
    "            if n%j == 0:\n",
    "                isPrime = False\n",
    "                break\n",
    "        \n",
    "        if isPrime:\n",
    "            primeFact.append(n)\n",
    "primeFact"
   ]
  },
  {
   "cell_type": "markdown",
   "id": "d38996f6",
   "metadata": {},
   "source": [
    "### 10."
   ]
  },
  {
   "cell_type": "code",
   "execution_count": 46,
   "id": "8a296fd6",
   "metadata": {},
   "outputs": [
    {
     "name": "stdout",
     "output_type": "stream",
     "text": [
      "Enter a number in the range [0,9]:5\n",
      "Enter the maximum number for calculation:6\n",
      "5\n",
      "10\n",
      "15\n",
      "20\n",
      "25\n"
     ]
    }
   ],
   "source": [
    "n = int(input(\"Enter a number in the range [0,9]:\"))\n",
    "N = int(input(\"Enter the maximum number for calculation:\"))\n",
    "for i in range(1,N):\n",
    "    print(i*n)\n",
    "    "
   ]
  },
  {
   "cell_type": "markdown",
   "id": "8a612abb",
   "metadata": {},
   "source": [
    "### 11."
   ]
  },
  {
   "cell_type": "code",
   "execution_count": 50,
   "id": "dabcced9",
   "metadata": {},
   "outputs": [
    {
     "data": {
      "text/plain": [
       "[0, 3, 6, 7, 9, 11, 12, 14, 15, 18, 21, 22, 24, 27, 28, 30, 33, 35, 36, 39]"
      ]
     },
     "execution_count": 50,
     "metadata": {},
     "output_type": "execute_result"
    }
   ],
   "source": [
    "multiples = []\n",
    "for i in range(40):\n",
    "    if ((i%3 == 0) or (i%7 == 0) or (i%11 == 0)):\n",
    "        multiples.append(i)\n",
    "multiples"
   ]
  },
  {
   "cell_type": "markdown",
   "id": "1e4dfc39",
   "metadata": {},
   "source": [
    "### 12."
   ]
  },
  {
   "cell_type": "code",
   "execution_count": 51,
   "id": "b9978742",
   "metadata": {},
   "outputs": [
    {
     "name": "stdout",
     "output_type": "stream",
     "text": [
      "Enter a float number: 6\n",
      "6\n"
     ]
    }
   ],
   "source": [
    "import math\n",
    "x = float(input(\"Enter a float number: \"))\n",
    "print(math.floor(x))\n"
   ]
  },
  {
   "cell_type": "code",
   "execution_count": null,
   "id": "1d01f17c",
   "metadata": {},
   "outputs": [],
   "source": []
  },
  {
   "cell_type": "markdown",
   "id": "5b379894",
   "metadata": {},
   "source": [
    "### 13."
   ]
  },
  {
   "cell_type": "code",
   "execution_count": 55,
   "id": "bdc10b1a",
   "metadata": {},
   "outputs": [
    {
     "name": "stdout",
     "output_type": "stream",
     "text": [
      "Enter the x-coordinate: 5\n",
      "Enter the y-coordinate: 6\n",
      "1st quadrant\n",
      "Do you want to continue? (yes/no): yes\n",
      "Enter the x-coordinate: 4\n",
      "Enter the y-coordinate: 5\n",
      "1st quadrant\n",
      "Do you want to continue? (yes/no): no\n"
     ]
    }
   ],
   "source": [
    "while True:\n",
    "    x = float(input(\"Enter the x-coordinate: \"))\n",
    "    y = float(input(\"Enter the y-coordinate: \"))\n",
    "    \n",
    "    if x == 0 and y == 0:\n",
    "        print(\"Origin\")\n",
    "    elif x == 0:\n",
    "        print(\"Lies on the y-axis\")\n",
    "    elif y == 0:\n",
    "        print(\"Lies on the x-axis\")\n",
    "    elif x > 0 and y > 0:\n",
    "        print(\"1st quadrant\")\n",
    "    elif x < 0 and y > 0:\n",
    "        print(\"2nd quadrant\")\n",
    "    elif x < 0 and y < 0:\n",
    "        print(\"3rd quadrant\")\n",
    "    elif x > 0 and y < 0:\n",
    "        print(\"4th quadrant\")\n",
    "    \n",
    "    cont = input(\"Do you want to continue? (yes/no): \").lower()\n",
    "    if cont == \"no\":\n",
    "        break\n"
   ]
  },
  {
   "cell_type": "markdown",
   "id": "732681ec",
   "metadata": {},
   "source": [
    "### 14."
   ]
  },
  {
   "cell_type": "code",
   "execution_count": 76,
   "id": "2815142b",
   "metadata": {},
   "outputs": [
    {
     "name": "stdout",
     "output_type": "stream",
     "text": [
      "Enter an integer in the range[0,9]:2\n",
      "Enter an integer in the range[0,255]:23\n",
      "[0, 2, 4, 6, 8, 10, 12, 14, 16, 18, 20, 22]\n",
      "Do you want to continue? (yes/no): yess\n",
      "Enter an integer in the range[0,9]:2\n",
      "Enter an integer in the range[0,255]:233\n",
      "Do you want to continue? (yes/no): no\n"
     ]
    }
   ],
   "source": [
    "multi = []\n",
    "cont=\"yes\"\n",
    "stop_loop1=True\n",
    "stop_loop2=True\n",
    "while stop_loop1:\n",
    "    x = int(input(\"Enter an integer in the range[0,9]:\"))\n",
    "    if x in range(10):\n",
    "        max = int(input(\"Enter an integer in the range[0,255]:\"))\n",
    "        while stop_loop2:\n",
    "            if max in range(256):\n",
    "                for i in range(max):\n",
    "                    if (i%x == 0):\n",
    "                        multi.append(i)\n",
    "                print(multi)\n",
    "                stop_loop2=False \n",
    "            else:\n",
    "                max = int(input(\"Please enter a number in the specified range:\"))\n",
    "            \n",
    "    else:\n",
    "        x = int(input(\"Please enter a number in the specified range:\"))\n",
    "    \n",
    "    cont = input(\"Do you want to continue? (yes/no): \").lower()\n",
    "    if cont == \"no\":                    \n",
    "        stop_loop1=False\n",
    "    \n",
    "        "
   ]
  },
  {
   "cell_type": "code",
   "execution_count": null,
   "id": "5c9f38f9",
   "metadata": {},
   "outputs": [],
   "source": []
  }
 ],
 "metadata": {
  "kernelspec": {
   "display_name": "Python 3 (ipykernel)",
   "language": "python",
   "name": "python3"
  },
  "language_info": {
   "codemirror_mode": {
    "name": "ipython",
    "version": 3
   },
   "file_extension": ".py",
   "mimetype": "text/x-python",
   "name": "python",
   "nbconvert_exporter": "python",
   "pygments_lexer": "ipython3",
   "version": "3.11.5"
  }
 },
 "nbformat": 4,
 "nbformat_minor": 5
}
